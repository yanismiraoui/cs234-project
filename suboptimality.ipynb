{
 "cells": [
  {
   "cell_type": "code",
   "execution_count": 1,
   "metadata": {},
   "outputs": [],
   "source": [
    "import gymnasium as gym\n",
    "import numpy as np\n",
    "from tqdm.notebook import tqdm\n",
    "import matplotlib.pyplot as plt"
   ]
  },
  {
   "cell_type": "code",
   "execution_count": 2,
   "metadata": {},
   "outputs": [],
   "source": [
    "env = gym.make('FrozenLake-v1', is_slippery=True)"
   ]
  },
  {
   "cell_type": "code",
   "execution_count": 4,
   "metadata": {},
   "outputs": [
    {
     "name": "stdout",
     "output_type": "stream",
     "text": [
      "Value Function after 100 iterations: [0.18035745 0.15466    0.15340661 0.13247087 0.20886331 0.\n",
      " 0.17639284 0.         0.27037339 0.37459489 0.40363285 0.\n",
      " 0.         0.50893908 0.72365223 0.        ]\n"
     ]
    }
   ],
   "source": [
    "def approximate_value_iteration_fixed_iterations(env, gamma=0.95, T=100):\n",
    "    num_states = env.observation_space.n\n",
    "    V = np.zeros(num_states)\n",
    "\n",
    "    for _ in range(T):\n",
    "        V_new = np.zeros(num_states)\n",
    "        for state in range(num_states):\n",
    "            V_new[state] = max([sum([prob * (reward + gamma * V[next_state])\n",
    "                                     for prob, next_state, reward, _ in env.P[state][action]])\n",
    "                                for action in range(env.action_space.n)])\n",
    "        V = V_new\n",
    "\n",
    "    return V\n",
    "\n",
    "T = 100\n",
    "value_function = approximate_value_iteration_fixed_iterations(env, T=T)\n",
    "print(\"Value Function after\", T, \"iterations:\", value_function)"
   ]
  },
  {
   "cell_type": "code",
   "execution_count": 5,
   "metadata": {},
   "outputs": [
    {
     "name": "stdout",
     "output_type": "stream",
     "text": [
      "Optimal Value Function: [0.1804715  0.15475666 0.1534771  0.13254839 0.20896702 0.\n",
      " 0.17643077 0.         0.27045736 0.3746515  0.4036727  0.\n",
      " 0.         0.50897993 0.72367363 0.        ]\n"
     ]
    }
   ],
   "source": [
    "def value_iteration(env, gamma=0.95, epsilon=1e-8):\n",
    "    num_states = env.observation_space.n\n",
    "    V = np.zeros(num_states)\n",
    "    delta = float('inf')\n",
    "    \n",
    "    while delta > epsilon:\n",
    "        delta = 0\n",
    "        for state in range(num_states):\n",
    "            v = V[state]\n",
    "            V[state] = max([sum([prob * (reward + gamma * V[next_state])\n",
    "                                 for prob, next_state, reward, _ in env.P[state][action]])\n",
    "                            for action in range(env.action_space.n)])\n",
    "            delta = max(delta, abs(v - V[state]))\n",
    "    \n",
    "    return V\n",
    "\n",
    "optimal_value_function = value_iteration(env)\n",
    "print(\"Optimal Value Function:\", optimal_value_function)"
   ]
  },
  {
   "cell_type": "code",
   "execution_count": 8,
   "metadata": {},
   "outputs": [
    {
     "name": "stdout",
     "output_type": "stream",
     "text": [
      "Suboptimality Measure (ε∞) saved: 0.00011405178932732962\n"
     ]
    }
   ],
   "source": [
    "\n",
    "env = gym.make('FrozenLake-v1', is_slippery=True)\n",
    "\n",
    "def value_iteration(env, gamma=0.95, epsilon=1e-8):\n",
    "    num_states = env.observation_space.n\n",
    "    V = np.zeros(num_states)\n",
    "    delta = float('inf')\n",
    "    \n",
    "    while delta > epsilon:\n",
    "        delta = 0\n",
    "        for state in range(num_states):\n",
    "            v = V[state]\n",
    "            V[state] = max([sum([prob * (reward + gamma * V[next_state])\n",
    "                                 for prob, next_state, reward, _ in env.P[state][action]])\n",
    "                            for action in range(env.action_space.n)])\n",
    "            delta = max(delta, abs(v - V[state]))\n",
    "    \n",
    "    return V\n",
    "\n",
    "def approximate_value_iteration_fixed_iterations(env, gamma=0.95, T=100):\n",
    "    num_states = env.observation_space.n\n",
    "    V = np.zeros(num_states)\n",
    "    \n",
    "    for _ in range(T):\n",
    "        V_new = np.zeros(num_states)\n",
    "        for state in range(num_states):\n",
    "            V_new[state] = max([sum([prob * (reward + gamma * V[next_state])\n",
    "                                     for prob, next_state, reward, _ in env.P[state][action]])\n",
    "                                for action in range(env.action_space.n)])\n",
    "        V = V_new\n",
    "    \n",
    "    return V\n",
    "\n",
    "def calculate_suboptimality(V_approx, V_star):\n",
    "    epsilon_infinity = np.max(np.abs(V_approx - V_star))\n",
    "    return epsilon_infinity\n",
    "\n",
    "# Run algorithms\n",
    "optimal_value_function = value_iteration(env)\n",
    "approx_value_function = approximate_value_iteration_fixed_iterations(env, T=100)\n",
    "suboptimality_measure = calculate_suboptimality(approx_value_function, optimal_value_function)\n",
    "\n",
    "print(\"Suboptimality Measure (ε∞) saved:\", suboptimality_measure)"
   ]
  },
  {
   "cell_type": "code",
   "execution_count": null,
   "metadata": {},
   "outputs": [],
   "source": []
  }
 ],
 "metadata": {
  "kernelspec": {
   "display_name": "cs234_hw3",
   "language": "python",
   "name": "python3"
  },
  "language_info": {
   "codemirror_mode": {
    "name": "ipython",
    "version": 3
   },
   "file_extension": ".py",
   "mimetype": "text/x-python",
   "name": "python",
   "nbconvert_exporter": "python",
   "pygments_lexer": "ipython3",
   "version": "3.8.19"
  }
 },
 "nbformat": 4,
 "nbformat_minor": 2
}
